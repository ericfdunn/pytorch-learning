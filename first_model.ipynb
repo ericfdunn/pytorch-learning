{
 "cells": [
  {
   "cell_type": "code",
   "execution_count": 190,
   "id": "b51f5167",
   "metadata": {},
   "outputs": [],
   "source": [
    "import torch\n",
    "import torch.nn as nn\n",
    "import torch.optim as optim\n",
    "import torch.utils.data as data_utils\n",
    "\n",
    "import matplotlib.pyplot as plt"
   ]
  },
  {
   "cell_type": "code",
   "execution_count": 191,
   "id": "21352395",
   "metadata": {},
   "outputs": [
    {
     "data": {
      "text/plain": [
       "<torch._C.Generator at 0x7f23d1bf4650>"
      ]
     },
     "execution_count": 191,
     "metadata": {},
     "output_type": "execute_result"
    }
   ],
   "source": [
    "torch.manual_seed(0)"
   ]
  },
  {
   "cell_type": "code",
   "execution_count": 192,
   "id": "ae27aa13",
   "metadata": {},
   "outputs": [],
   "source": [
    "#generate the data\n",
    "import random\n",
    "\n",
    "n = 100 # number of replications\n",
    "start_vector_size = 2\n",
    "end_vector_size = 1\n",
    "\n",
    "# Create an empty matrix\n",
    "input_data = [[0] * start_vector_size for _ in range(n)]\n",
    "\n",
    "output_data = [[0] * end_vector_size for _ in range(n)]\n",
    "\n",
    "# Fill the matrix with random values\n",
    "for i in range(n):\n",
    "    for j in range(start_vector_size):\n",
    "        input_data[i][j] = random.random()  # Generates a random value between 0 and 1\n",
    "    output_data[i][0] = sum(input_data[i])\n",
    " #   output_data[i][1] = sum(input_data[i]) * 2"
   ]
  },
  {
   "cell_type": "code",
   "execution_count": 193,
   "id": "b17f5515",
   "metadata": {},
   "outputs": [
    {
     "name": "stdout",
     "output_type": "stream",
     "text": [
      "[0.14595351985606397, 0.836634138278707] [0.982587658134771]\n"
     ]
    }
   ],
   "source": [
    "print(input_data[0],output_data[0])"
   ]
  },
  {
   "cell_type": "code",
   "execution_count": 194,
   "id": "42b40c90",
   "metadata": {},
   "outputs": [
    {
     "data": {
      "text/plain": [
       "<torch.utils.data.dataset.TensorDataset at 0x7f23b9e8a470>"
      ]
     },
     "execution_count": 194,
     "metadata": {},
     "output_type": "execute_result"
    }
   ],
   "source": [
    "input_tensor = torch.Tensor(input_data)\n",
    "output_tensor = torch.Tensor(output_data)\n",
    "dataset = data_utils.TensorDataset(input_tensor,output_tensor)\n",
    "dataset"
   ]
  },
  {
   "cell_type": "code",
   "execution_count": 195,
   "id": "4e51ec06",
   "metadata": {},
   "outputs": [],
   "source": [
    "# model = nn.Sequential(nn.Linear(8,8),nn.Linear(8,5),nn.Linear(5,2))\n",
    "model = nn.Sequential(nn.Linear(start_vector_size,end_vector_size))"
   ]
  },
  {
   "cell_type": "code",
   "execution_count": 196,
   "id": "60a317f9",
   "metadata": {},
   "outputs": [
    {
     "data": {
      "text/plain": [
       "tensor([[-0.2654],\n",
       "        [-0.5597],\n",
       "        [-0.5723],\n",
       "        [-0.3609]], grad_fn=<SliceBackward0>)"
      ]
     },
     "execution_count": 196,
     "metadata": {},
     "output_type": "execute_result"
    }
   ],
   "source": [
    "output = model(input_tensor)\n",
    "output[0:4]"
   ]
  },
  {
   "cell_type": "code",
   "execution_count": 197,
   "id": "5b1370b6",
   "metadata": {},
   "outputs": [],
   "source": [
    "# create loss function and optimizer\n",
    "criterion = nn.MSELoss()"
   ]
  },
  {
   "cell_type": "code",
   "execution_count": 198,
   "id": "0ffbf892",
   "metadata": {},
   "outputs": [
    {
     "data": {
      "image/png": "[encoded data removed]",
      "text/plain": [
       "<Figure size 640x480 with 1 Axes>"
      ]
     },
     "metadata": {},
     "output_type": "display_data"
    }
   ],
   "source": [
    "# Tuning parameters\n",
    "training_batch_size = n #must be less than n\n",
    "learning_rate = 0.02\n",
    "num_epochs = 1000\n",
    "\n",
    "dataloader = data_utils.DataLoader(dataset, batch_size=training_batch_size, shuffle=True)\n",
    "optimizer = optim.SGD(model.parameters(), lr=learning_rate)\n",
    "\n",
    "loss_values = []\n",
    "\n",
    "# Training the model\n",
    "for epoch in range(num_epochs):\n",
    "    epoch_loss = 0.0\n",
    "    for data in dataloader:\n",
    "        optimizer.zero_grad()\n",
    "        feature, target = data\n",
    "        pred = model(feature)\n",
    "        loss = criterion(pred, target)\n",
    "        loss.backward()\n",
    "        optimizer.step()\n",
    "        epoch_loss += loss.item()  # Accumulate the loss value\n",
    "\n",
    "    # Calculate average loss per epoch\n",
    "    epoch_loss /= len(dataloader)\n",
    "    # Store the loss value\n",
    "    loss_values.append(epoch_loss)\n",
    "\n",
    "# Plot the loss values\n",
    "plt.plot(loss_values)\n",
    "plt.xlabel('Epoch')\n",
    "plt.ylabel('Loss')\n",
    "plt.title('Loss over Epochs')\n",
    "plt.show()"
   ]
  },
  {
   "cell_type": "code",
   "execution_count": 204,
   "id": "275fac13",
   "metadata": {},
   "outputs": [
    {
     "name": "stdout",
     "output_type": "stream",
     "text": [
      "tensor([[0.9894],\n",
      "        [0.8189],\n",
      "        [0.8096],\n",
      "        [1.3007]], grad_fn=<SliceBackward0>)\n",
      "tensor([[0.9826],\n",
      "        [0.8098],\n",
      "        [0.8003],\n",
      "        [1.3072]])\n"
     ]
    }
   ],
   "source": [
    "# compare model performance\n",
    "print(model(input_tensor)[0:4])\n",
    "print(output_tensor[0:4])"
   ]
  },
  {
   "cell_type": "code",
   "execution_count": null,
   "id": "677f4d4f",
   "metadata": {},
   "outputs": [],
   "source": []
  },
  {
   "cell_type": "markdown",
   "id": "2fc5ae2f",
   "metadata": {},
   "source": [
    "## Activation Functions"
   ]
  },
  {
   "cell_type": "code",
   "execution_count": 200,
   "id": "1c9aa6e8",
   "metadata": {},
   "outputs": [],
   "source": [
    "relu_pytorch = nn.ReLU()"
   ]
  },
  {
   "cell_type": "code",
   "execution_count": 201,
   "id": "a364f2a8",
   "metadata": {},
   "outputs": [],
   "source": [
    "x = torch.tensor(-1.0, requires_grad=True)\n"
   ]
  },
  {
   "cell_type": "code",
   "execution_count": 202,
   "id": "59552fa2",
   "metadata": {},
   "outputs": [
    {
     "data": {
      "text/plain": [
       "tensor(0., grad_fn=<ReluBackward0>)"
      ]
     },
     "execution_count": 202,
     "metadata": {},
     "output_type": "execute_result"
    }
   ],
   "source": [
    "y = relu_pytorch(x)\n",
    "y"
   ]
  },
  {
   "cell_type": "code",
   "execution_count": 203,
   "id": "c1357f31",
   "metadata": {},
   "outputs": [],
   "source": [
    "x.grad"
   ]
  },
  {
   "cell_type": "code",
   "execution_count": null,
   "id": "7a06e433",
   "metadata": {},
   "outputs": [],
   "source": []
  }
 ],
 "metadata": {
  "kernelspec": {
   "display_name": "Python 3 (ipykernel)",
   "language": "python",
   "name": "python3"
  },
  "language_info": {
   "codemirror_mode": {
    "name": "ipython",
    "version": 3
   },
   "file_extension": ".py",
   "mimetype": "text/x-python",
   "name": "python",
   "nbconvert_exporter": "python",
   "pygments_lexer": "ipython3",
   "version": "3.10.12"
  }
 },
 "nbformat": 4,
 "nbformat_minor": 5
}
