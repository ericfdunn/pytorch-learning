{
 "cells": [
  {
   "cell_type": "code",
   "execution_count": 32,
   "id": "b51f5167",
   "metadata": {},
   "outputs": [],
   "source": [
    "import torch\n",
    "import torch.nn as nn\n",
    "import torch.optim as optim\n",
    "import torch.utils.data as data_utils"
   ]
  },
  {
   "cell_type": "code",
   "execution_count": 9,
   "id": "41f3a051",
   "metadata": {},
   "outputs": [
    {
     "data": {
      "text/plain": [
       "<torch._C.Generator at 0x7f23d1bf4650>"
      ]
     },
     "execution_count": 9,
     "metadata": {},
     "output_type": "execute_result"
    }
   ],
   "source": [
    "torch.manual_seed(0)"
   ]
  },
  {
   "cell_type": "code",
   "execution_count": 52,
   "id": "52abe60e",
   "metadata": {},
   "outputs": [],
   "source": [
    "#generate the data\n",
    "import random\n",
    "# Define the size of the matrix\n",
    "rows = 10\n",
    "columns = 8\n",
    "\n",
    "# Create an empty matrix\n",
    "input_data = [[0] * columns for _ in range(rows)]\n",
    "\n",
    "output_data = [[0] * 2 for _ in range(rows)]\n",
    "\n",
    "# Fill the matrix with random values\n",
    "for i in range(rows):\n",
    "    for j in range(columns):\n",
    "        input_data[i][j] = random.random()  # Generates a random value between 0 and 1\n",
    "    output_data[i][0] = sum(input_data[i])\n",
    "    output_data[i][1] = sum(input_data[i]) * 2"
   ]
  },
  {
   "cell_type": "code",
   "execution_count": 55,
   "id": "42b40c90",
   "metadata": {},
   "outputs": [
    {
     "data": {
      "text/plain": [
       "<torch.utils.data.dataset.TensorDataset at 0x7f23bd713850>"
      ]
     },
     "execution_count": 55,
     "metadata": {},
     "output_type": "execute_result"
    }
   ],
   "source": [
    "input_tensor = torch.Tensor(input_data)\n",
    "output_tensor = torch.Tensor(output_data)\n",
    "dataset = data_utils.TensorDataset(input_tensor,output_tensor)\n",
    "dataset"
   ]
  },
  {
   "cell_type": "code",
   "execution_count": 56,
   "id": "b5c6312e",
   "metadata": {},
   "outputs": [],
   "source": [
    "dataloader = data_utils.DataLoader(dataset, batch_size=4, shuffle=True)"
   ]
  },
  {
   "cell_type": "code",
   "execution_count": 70,
   "id": "4e51ec06",
   "metadata": {},
   "outputs": [],
   "source": [
    "model = nn.Sequential(nn.Linear(8,8),nn.Linear(8,5),nn.Linear(5,2))"
   ]
  },
  {
   "cell_type": "code",
   "execution_count": 71,
   "id": "60a317f9",
   "metadata": {},
   "outputs": [
    {
     "data": {
      "text/plain": [
       "tensor([[-0.7122, -0.8931],\n",
       "        [-0.6343, -0.8653],\n",
       "        [-0.5458, -0.7317],\n",
       "        [-0.4006, -0.7398],\n",
       "        [-0.6216, -0.8367],\n",
       "        [-0.6801, -0.9641],\n",
       "        [-0.6993, -0.9168],\n",
       "        [-0.7602, -0.9318],\n",
       "        [-0.5391, -0.8078],\n",
       "        [-0.5569, -0.7859]], grad_fn=<AddmmBackward0>)"
      ]
     },
     "execution_count": 71,
     "metadata": {},
     "output_type": "execute_result"
    }
   ],
   "source": [
    "output = model(input_tensor)\n",
    "output"
   ]
  },
  {
   "cell_type": "code",
   "execution_count": 76,
   "id": "d34788ad",
   "metadata": {},
   "outputs": [],
   "source": [
    "# create loss function and optimizer\n",
    "criterion = nn.MSELoss()\n",
    "optimizer = optim.SGD(model.parameters(), lr=0.001)"
   ]
  },
  {
   "cell_type": "code",
   "execution_count": 77,
   "id": "6f85f5cb",
   "metadata": {},
   "outputs": [
    {
     "data": {
      "text/plain": [
       "tensor([[-0.7122, -0.8931],\n",
       "        [-0.6343, -0.8653],\n",
       "        [-0.5458, -0.7317],\n",
       "        [-0.4006, -0.7398],\n",
       "        [-0.6216, -0.8367],\n",
       "        [-0.6801, -0.9641],\n",
       "        [-0.6993, -0.9168],\n",
       "        [-0.7602, -0.9318],\n",
       "        [-0.5391, -0.8078],\n",
       "        [-0.5569, -0.7859]], grad_fn=<AddmmBackward0>)"
      ]
     },
     "execution_count": 77,
     "metadata": {},
     "output_type": "execute_result"
    }
   ],
   "source": [
    "# Training the model\n",
    "for epoch in range(1000):\n",
    "    for data in dataloader:\n",
    "        optimizer.zero_grad()\n",
    "        feature, target = data\n",
    "        pred = model(feature)\n",
    "        loss = criterion(pred,target)\n",
    "       # print(loss)\n",
    "        loss.backward()\n",
    "        optimizer.step\n",
    "        \n",
    "model(input_tensor)"
   ]
  },
  {
   "cell_type": "code",
   "execution_count": 74,
   "id": "4970a719",
   "metadata": {},
   "outputs": [
    {
     "data": {
      "text/plain": [
       "[[3.6001074424664345, 7.200214884932869],\n",
       " [5.522811588180384, 11.045623176360769],\n",
       " [4.799356691454156, 9.598713382908311],\n",
       " [3.565018530465561, 7.130037060931122],\n",
       " [3.5965270144873047, 7.193054028974609],\n",
       " [3.7834068001485273, 7.5668136002970545],\n",
       " [5.038611245009911, 10.077222490019823],\n",
       " [4.2878224252587485, 8.575644850517497],\n",
       " [4.4387218549002005, 8.877443709800401],\n",
       " [3.1657984175934555, 6.331596835186911]]"
      ]
     },
     "execution_count": 74,
     "metadata": {},
     "output_type": "execute_result"
    }
   ],
   "source": [
    "output_data"
   ]
  },
  {
   "cell_type": "code",
   "execution_count": null,
   "id": "93edc099",
   "metadata": {},
   "outputs": [],
   "source": []
  },
  {
   "cell_type": "markdown",
   "id": "724bb84c",
   "metadata": {},
   "source": [
    "Activation Functions"
   ]
  },
  {
   "cell_type": "code",
   "execution_count": 78,
   "id": "6e35bd34",
   "metadata": {},
   "outputs": [],
   "source": [
    "relu_pytorch = nn.ReLU()"
   ]
  },
  {
   "cell_type": "code",
   "execution_count": 83,
   "id": "da2c3dea",
   "metadata": {},
   "outputs": [],
   "source": [
    "x = torch.tensor(-1.0, requires_grad=True)\n"
   ]
  },
  {
   "cell_type": "code",
   "execution_count": 89,
   "id": "6d0d892b",
   "metadata": {},
   "outputs": [
    {
     "data": {
      "text/plain": [
       "tensor(0., grad_fn=<ReluBackward0>)"
      ]
     },
     "execution_count": 89,
     "metadata": {},
     "output_type": "execute_result"
    }
   ],
   "source": [
    "y = relu_pytorch(x)\n",
    "y"
   ]
  },
  {
   "cell_type": "code",
   "execution_count": 92,
   "id": "ff6210b3",
   "metadata": {},
   "outputs": [
    {
     "data": {
      "text/plain": [
       "tensor(0.)"
      ]
     },
     "execution_count": 92,
     "metadata": {},
     "output_type": "execute_result"
    }
   ],
   "source": [
    "x.grad"
   ]
  },
  {
   "cell_type": "code",
   "execution_count": null,
   "id": "776c2511",
   "metadata": {},
   "outputs": [],
   "source": []
  }
 ],
 "metadata": {
  "kernelspec": {
   "display_name": "Python 3 (ipykernel)",
   "language": "python",
   "name": "python3"
  },
  "language_info": {
   "codemirror_mode": {
    "name": "ipython",
    "version": 3
   },
   "file_extension": ".py",
   "mimetype": "text/x-python",
   "name": "python",
   "nbconvert_exporter": "python",
   "pygments_lexer": "ipython3",
   "version": "3.10.12"
  }
 },
 "nbformat": 4,
 "nbformat_minor": 5
}
